{
  "nbformat": 4,
  "nbformat_minor": 0,
  "metadata": {
    "colab": {
      "provenance": [],
      "authorship_tag": "ABX9TyN6f+Md0BEgD8PUX37UHqxW",
      "include_colab_link": true
    },
    "kernelspec": {
      "name": "python3",
      "display_name": "Python 3"
    },
    "language_info": {
      "name": "python"
    }
  },
  "cells": [
    {
      "cell_type": "markdown",
      "metadata": {
        "id": "view-in-github",
        "colab_type": "text"
      },
      "source": [
        "<a href=\"https://colab.research.google.com/github/Jaimeofastora/SegundoEjerciocio/blob/main/Jaime_prueba_02.ipynb\" target=\"_parent\"><img src=\"https://colab.research.google.com/assets/colab-badge.svg\" alt=\"Open In Colab\"/></a>"
      ]
    },
    {
      "cell_type": "code",
      "execution_count": 4,
      "metadata": {
        "id": "Ui5KAFhe238A"
      },
      "outputs": [],
      "source": []
    },
    {
      "cell_type": "markdown",
      "source": [
        "# primer ejercicio\n",
        "## subtitle\n",
        "texto normal\n"
      ],
      "metadata": {
        "id": "1n3dOpqq3xL9"
      }
    },
    {
      "cell_type": "code",
      "source": [
        "print(\"Buenos días mundo\")"
      ],
      "metadata": {
        "id": "43J6hX_94nNd"
      },
      "execution_count": null,
      "outputs": []
    },
    {
      "cell_type": "markdown",
      "source": [
        "#segundo ejercicio"
      ],
      "metadata": {
        "id": "qMv10fJ44eJN"
      }
    },
    {
      "cell_type": "code",
      "source": [
        "print(\"Buenos días, jaime\")\n",
        "print(\"adios, jaime\")"
      ],
      "metadata": {
        "colab": {
          "base_uri": "https://localhost:8080/"
        },
        "id": "X6hv2SME4UV-",
        "outputId": "3c9329f8-3188-4e61-b565-f3b3a824e5e7"
      },
      "execution_count": 7,
      "outputs": [
        {
          "output_type": "stream",
          "name": "stdout",
          "text": [
            "Hola, jaime\n"
          ]
        }
      ]
    }
  ]
}